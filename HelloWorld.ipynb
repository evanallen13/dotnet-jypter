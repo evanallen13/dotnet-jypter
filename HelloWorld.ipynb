{
 "cells": [
  {
   "cell_type": "markdown",
   "metadata": {},
   "source": [
    "# C# Jupyter Notebook - Hello World\n",
    "\n",
    "Welcome to your C# Jupyter notebook! This notebook demonstrates basic C# code execution in a Jupyter environment."
   ]
  },
  {
   "cell_type": "code",
   "execution_count": null,
   "metadata": {
    "dotnet_interactive": {
     "language": "csharp"
    }
   },
   "outputs": [],
   "source": [
    "// Simple Hello World in C#\n",
    "Console.WriteLine(\"Hello, World from C# Jupyter Notebook!\");"
   ]
  },
  {
   "cell_type": "code",
   "execution_count": null,
   "metadata": {
    "dotnet_interactive": {
     "language": "csharp"
    }
   },
   "outputs": [],
   "source": [
    "// Working with variables\n",
    "string name = \"Developer\";\n",
    "int year = DateTime.Now.Year;\n",
    "\n",
    "Console.WriteLine($\"Hello, {name}! Welcome to C# in {year}!\");"
   ]
  },
  {
   "cell_type": "code",
   "execution_count": null,
   "metadata": {
    "dotnet_interactive": {
     "language": "csharp"
    }
   },
   "outputs": [],
   "source": [
    "// Simple calculations\n",
    "int a = 10;\n",
    "int b = 20;\n",
    "int sum = a + b;\n",
    "\n",
    "Console.WriteLine($\"{a} + {b} = {sum}\");\n",
    "\n",
    "// Display the result\n",
    "sum"
   ]
  },
  {
   "cell_type": "code",
   "execution_count": null,
   "metadata": {
    "dotnet_interactive": {
     "language": "csharp"
    }
   },
   "outputs": [],
   "source": [
    "// Working with collections\n",
    "var numbers = new List<int> { 1, 2, 3, 4, 5 };\n",
    "\n",
    "Console.WriteLine(\"Numbers in the list:\");\n",
    "foreach (var number in numbers)\n",
    "{\n",
    "    Console.WriteLine($\"Number: {number}\");\n",
    "}\n",
    "\n",
    "// Calculate sum using LINQ\n",
    "var total = numbers.Sum();\n",
    "Console.WriteLine($\"Total sum: {total}\");"
   ]
  },
  {
   "cell_type": "markdown",
   "metadata": {},
   "source": [
    "## Getting Started\n",
    "\n",
    "To use this notebook:\n",
    "\n",
    "1. Open this repository in GitHub Codespaces\n",
    "2. Wait for the container to build and install dependencies\n",
    "3. Open this notebook file (HelloWorld.ipynb)\n",
    "4. Run the cells by clicking the \"Run\" button or pressing Shift+Enter\n",
    "\n",
    "The devcontainer is configured with:\n",
    "- .NET 8.0 SDK\n",
    "- .NET Interactive (dotnet-interactive)\n",
    "- Jupyter notebook support\n",
    "- VS Code extensions for C# and Jupyter"
   ]
  }
 ],
 "metadata": {
  "kernelspec": {
   "display_name": ".NET (C#)",
   "language": "C#",
   "name": ".net-csharp"
  },
  "language_info": {
   "name": "polyglot-notebook"
  },
  "polyglot_notebook": {
   "kernelInfo": {
    "defaultKernelName": "csharp",
    "items": [
     {
      "aliases": [],
      "languageName": "csharp",
      "name": "csharp"
     }
    ]
   }
  }
 },
 "nbformat": 4,
 "nbformat_minor": 2
}